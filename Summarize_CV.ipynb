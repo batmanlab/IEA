{
 "cells": [
  {
   "cell_type": "code",
   "execution_count": 4,
   "metadata": {},
   "outputs": [],
   "source": [
    "import IEA_model\n",
    "import numpy as np\n",
    "import torch\n",
    "import pandas as pd\n",
    "from torch.utils.data import DataLoader\n",
    "import utility\n",
    "\n",
    "from importlib import reload \n",
    "reload(utility)\n",
    "reload(IEA_model)\n",
    "\n",
    "from sklearn.linear_model import LinearRegression"
   ]
  },
  {
   "cell_type": "code",
   "execution_count": null,
   "metadata": {},
   "outputs": [],
   "source": []
  },
  {
   "cell_type": "code",
   "execution_count": 5,
   "metadata": {},
   "outputs": [
    {
     "name": "stderr",
     "output_type": "stream",
     "text": [
      "/ocean/projects/asc170022p/juc91/anaconda/lib/python3.8/site-packages/pandas/core/frame.py:3065: SettingWithCopyWarning: \n",
      "A value is trying to be set on a copy of a slice from a DataFrame.\n",
      "Try using .loc[row_indexer,col_indexer] = value instead\n",
      "\n",
      "See the caveats in the documentation: https://pandas.pydata.org/pandas-docs/stable/user_guide/indexing.html#returning-a-view-versus-a-copy\n",
      "  self[k1] = value[k2]\n",
      "/ocean/projects/asc170022p/juc91/anaconda/lib/python3.8/site-packages/pandas/core/frame.py:3065: SettingWithCopyWarning: \n",
      "A value is trying to be set on a copy of a slice from a DataFrame.\n",
      "Try using .loc[row_indexer,col_indexer] = value instead\n",
      "\n",
      "See the caveats in the documentation: https://pandas.pydata.org/pandas-docs/stable/user_guide/indexing.html#returning-a-view-versus-a-copy\n",
      "  self[k1] = value[k2]\n"
     ]
    }
   ],
   "source": [
    "thold = 1e-3\n",
    "\n",
    "df = pd.read_csv(\"gene_list_PCA/THOLD_{}.txt\".format(thold))\n",
    "idx_gene = df[\"index\"].to_numpy()\n",
    "\n",
    "data_train = utility.image_gene_dataset(train = True, cv = None)\n",
    "data_test = utility.image_gene_dataset(train = False, cv = None)\n",
    "\n",
    "train_loader = DataLoader(data_train)\n",
    "test_loader = DataLoader(data_test)\n",
    "\n",
    "\n",
    "sid_train, features_train, genes_train = data_train[:]\n",
    "sid_test, features_test, genes_test = data_test[:]\n",
    "\n",
    "sid_P1, features_P1 = utility.load_SSL_features_P1()\n",
    "features_P1 = torch.tensor(features_P1)"
   ]
  },
  {
   "cell_type": "code",
   "execution_count": 80,
   "metadata": {},
   "outputs": [],
   "source": []
  },
  {
   "cell_type": "code",
   "execution_count": 64,
   "metadata": {},
   "outputs": [
    {
     "data": {
      "text/plain": [
       "(9179, 581, 128)"
      ]
     },
     "execution_count": 64,
     "metadata": {},
     "output_type": "execute_result"
    }
   ],
   "source": []
  },
  {
   "cell_type": "code",
   "execution_count": null,
   "metadata": {},
   "outputs": [],
   "source": []
  },
  {
   "cell_type": "code",
   "execution_count": 7,
   "metadata": {},
   "outputs": [],
   "source": [
    "M.forward?"
   ]
  },
  {
   "cell_type": "code",
   "execution_count": 6,
   "metadata": {},
   "outputs": [],
   "source": [
    "beta = .1\n",
    "gamma = 1.0\n",
    "L = 2\n",
    "\n",
    "Z_train_cv = []\n",
    "Z_test_cv = []\n",
    "Z_P1_cv = []\n",
    "\n",
    "\n",
    "M = IEA_model.IEA( L = L,  idx_gene = idx_gene ).cuda()\n",
    "\n",
    "for cv in range(5):\n",
    "    filename = \"models/model_L{}_cv{}_beta{}_gamma{}_genes{}\".format(L, cv, beta, gamma, len(idx_gene))\n",
    "\n",
    "    M.load_state_dict( torch.load(filename) )\n",
    "    \n",
    "    with torch.no_grad():\n",
    "        _, _, _, Z_train = M.forward( features_train.cuda(), non_prb = True )\n",
    "        Z_train_cv.append( Z_train.cpu().data.numpy() )\n",
    "        \n",
    "        _, _, _, Z_test = M.forward( features_test.cuda(), non_prb = True  )\n",
    "        Z_test_cv.append( Z_test.cpu().data.numpy() )\n",
    "\n",
    "        _, _, _, Z_P1 = M.forward( features_P1.cuda(), non_prb = True  )\n",
    "        Z_P1_cv.append( Z_P1.cpu().data.numpy() )\n",
    "        \n",
    "Z_train_cv = np.array( Z_train_cv )\n",
    "Z_test_cv = np.array( Z_test_cv )\n",
    "Z_P1_cv = np.array( Z_P1_cv )\n",
    "    "
   ]
  },
  {
   "cell_type": "code",
   "execution_count": null,
   "metadata": {},
   "outputs": [],
   "source": []
  },
  {
   "cell_type": "code",
   "execution_count": 70,
   "metadata": {},
   "outputs": [
    {
     "data": {
      "text/plain": [
       "torch.Size([9179, 2])"
      ]
     },
     "execution_count": 70,
     "metadata": {},
     "output_type": "execute_result"
    }
   ],
   "source": [
    "Z_P1.shape"
   ]
  },
  {
   "cell_type": "code",
   "execution_count": 7,
   "metadata": {},
   "outputs": [
    {
     "name": "stdout",
     "output_type": "stream",
     "text": [
      "[[ 1.         -0.03789817  1.         -0.03789817]\n",
      " [-0.03789817  1.         -0.03789817  1.        ]\n",
      " [ 1.         -0.03789817  1.         -0.03789817]\n",
      " [-0.03789817  1.         -0.03789817  1.        ]]\n",
      "\n",
      "[[ 1.         -0.03789817  0.97762419  0.0302235 ]\n",
      " [-0.03789817  1.         -0.13281486  0.96053367]\n",
      " [ 0.97762419 -0.13281486  1.         -0.02186219]\n",
      " [ 0.0302235   0.96053367 -0.02186219  1.        ]]\n",
      "\n",
      "[[ 1.         -0.03789817  0.05340738  0.98937643]\n",
      " [-0.03789817  1.          0.98183229 -0.02769713]\n",
      " [ 0.05340738  0.98183229  1.          0.07147242]\n",
      " [ 0.98937643 -0.02769713  0.07147242  1.        ]]\n",
      "\n",
      "[[ 1.         -0.03789817  0.98900336 -0.06416191]\n",
      " [-0.03789817  1.         -0.02435581  0.96476894]\n",
      " [ 0.98900336 -0.02435581  1.         -0.03764199]\n",
      " [-0.06416191  0.96476894 -0.03764199  1.        ]]\n",
      "\n",
      "[[ 1.         -0.03789817  0.13037045 -0.97666967]\n",
      " [-0.03789817  1.         -0.91316037  0.06960488]\n",
      " [ 0.13037045 -0.91316037  1.         -0.10591901]\n",
      " [-0.97666967  0.06960488 -0.10591901  1.        ]]\n",
      "\n"
     ]
    }
   ],
   "source": [
    "Z_train_aligned = []\n",
    "Z_test_aligned = []\n",
    "Z_P1_aligned = []\n",
    "\n",
    "for cv in range(0,5):\n",
    "    Z_cat = np.concatenate( [ Z_train_cv[ 0, :, : ], Z_train_cv[ cv, :, : ] ], axis = 1 )\n",
    "    corrcoef = np.corrcoef(Z_cat.T)\n",
    "    \n",
    "    print(corrcoef)\n",
    "    print()\n",
    "    \n",
    "    Z_train = []\n",
    "    Z_test = []\n",
    "    Z_P1 = []\n",
    "    for lll in range(L):\n",
    "        \n",
    "        \n",
    "        corr_lll = corrcoef[lll, L:]\n",
    "        idx_lll = np.argmax( np.abs(corr_lll) )\n",
    "        \n",
    "        \n",
    "        mean = Z_train_cv[cv, :, idx_lll].mean()\n",
    "        std = Z_train_cv[cv, :, idx_lll].std()\n",
    "        \n",
    "        if corr_lll[idx_lll]>0:\n",
    "            Z_train.append( ( Z_train_cv[cv, :, idx_lll] - mean ) / std )\n",
    "            Z_test.append( ( Z_test_cv[cv, :, idx_lll] - mean ) / std  )\n",
    "            Z_P1.append(( Z_P1_cv[cv, :, idx_lll] - mean ) / std  )\n",
    "        else:\n",
    "            Z_train.append( - ( Z_train_cv[cv, :, idx_lll] - mean) / std )\n",
    "            Z_test.append( - ( Z_test_cv[cv, :, idx_lll] - mean) / std )\n",
    "            Z_P1.append( - ( Z_P1_cv[cv, :, idx_lll] - mean ) / std  )\n",
    "        \n",
    "    \n",
    "    Z_train_aligned.append( np.array(Z_train).T )\n",
    "    Z_test_aligned.append( np.array(Z_test).T )\n",
    "    Z_P1_aligned.append( np.array(Z_P1).T )\n",
    "    \n",
    "Z_train_aligned = np.array(Z_train_aligned)\n",
    "Z_test_aligned = np.array(Z_test_aligned)\n",
    "Z_P1_aligned = np.array(Z_P1_aligned)\n"
   ]
  },
  {
   "cell_type": "code",
   "execution_count": 8,
   "metadata": {},
   "outputs": [],
   "source": [
    "Z_train_final = Z_train_aligned.mean(0)\n",
    "Z_test_final = Z_test_aligned.mean(0)\n",
    "Z_P1_final = Z_P1_aligned.mean(0)"
   ]
  },
  {
   "cell_type": "code",
   "execution_count": 9,
   "metadata": {},
   "outputs": [],
   "source": [
    "df_train = pd.DataFrame(data = Z_train_final, columns = [\"IEA{}\".format(iii) for iii in range(L) ], index = sid_train)\n",
    "df_test = pd.DataFrame(data = Z_test_final, columns = [\"IEA{}\".format(iii) for iii in range(L) ], index = sid_test)\n",
    "df_P1 = pd.DataFrame(data = Z_P1_final, columns = [\"IEA{}\".format(iii) for iii in range(L) ], index = sid_P1)\n",
    "\n"
   ]
  },
  {
   "cell_type": "code",
   "execution_count": 10,
   "metadata": {},
   "outputs": [],
   "source": [
    "df_train.to_csv(\"output/IEA_train.csv\", index_label = \"sid\")\n",
    "df_test.to_csv(\"output/IEA_test.csv\", index_label = \"sid\")\n",
    "df_P1.to_csv(\"output/IEA_P1.csv\", index_label = \"sid\")"
   ]
  },
  {
   "cell_type": "code",
   "execution_count": null,
   "metadata": {},
   "outputs": [],
   "source": []
  },
  {
   "cell_type": "code",
   "execution_count": null,
   "metadata": {},
   "outputs": [],
   "source": []
  },
  {
   "cell_type": "code",
   "execution_count": null,
   "metadata": {},
   "outputs": [],
   "source": []
  }
 ],
 "metadata": {
  "kernelspec": {
   "display_name": "Python 3",
   "language": "python",
   "name": "python3"
  },
  "language_info": {
   "codemirror_mode": {
    "name": "ipython",
    "version": 3
   },
   "file_extension": ".py",
   "mimetype": "text/x-python",
   "name": "python",
   "nbconvert_exporter": "python",
   "pygments_lexer": "ipython3",
   "version": "3.8.5"
  }
 },
 "nbformat": 4,
 "nbformat_minor": 4
}
