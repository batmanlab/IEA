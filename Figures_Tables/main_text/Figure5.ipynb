{
 "cells": [
  {
   "cell_type": "markdown",
   "metadata": {},
   "source": [
    "# Figure E4 \n",
    "## Histograms for the variance of gene expression explained by the IEAs and PCA-Is."
   ]
  },
  {
   "cell_type": "code",
   "execution_count": 1,
   "metadata": {},
   "outputs": [],
   "source": [
    "import sys\n",
    "sys.path.append(\"../../src/\")\n",
    "import IEA_model\n",
    "import numpy as np\n",
    "import torch\n",
    "import pandas as pd\n",
    "from torch.utils.data import DataLoader\n",
    "import utility\n",
    "\n",
    "from importlib import reload \n",
    "\n",
    "from sklearn.linear_model import LinearRegression\n",
    "from matplotlib import pyplot as plt \n",
    "\n",
    "from sklearn.metrics import r2_score"
   ]
  },
  {
   "cell_type": "markdown",
   "metadata": {},
   "source": [
    "# Loading data"
   ]
  },
  {
   "cell_type": "code",
   "execution_count": 2,
   "metadata": {},
   "outputs": [],
   "source": [
    "thold = 0.01\n",
    "\n",
    "df_genes = utility.load_gene_data()\n",
    "\n",
    "df = pd.read_csv(\"../../gene_list/THOLD_{}.txt\".format(thold))\n",
    "idx_gene = df[\"index\"].to_numpy()\n"
   ]
  },
  {
   "cell_type": "code",
   "execution_count": 3,
   "metadata": {},
   "outputs": [],
   "source": [
    "gene_list = [ggg for ggg in df_genes.columns if \"ENSG\" in ggg]\n",
    "genes_selected = [gene_list[ggg] for ggg in idx_gene]"
   ]
  },
  {
   "cell_type": "code",
   "execution_count": 4,
   "metadata": {},
   "outputs": [],
   "source": [
    "df_test = pd.read_csv(\"../../output/IEA_test.csv\").set_index(\"sid\")\n",
    "df_PCs = utility.load_SSL_PCs()\n",
    "\n",
    "df_used = pd.merge(df_test, df_PCs, left_index = True, right_index = True)\n",
    "df_used = pd.merge(df_used, df_genes, left_index = True, right_index = True)\n",
    "\n"
   ]
  },
  {
   "cell_type": "markdown",
   "metadata": {},
   "source": [
    "# Variance Explained for all genes"
   ]
  },
  {
   "cell_type": "code",
   "execution_count": 5,
   "metadata": {},
   "outputs": [],
   "source": [
    "R2_IEA = []\n",
    "\n",
    "X = df_used[ [\"IEA0\", \"IEA1\"] ].to_numpy()\n",
    "y = df_used[ gene_list ].to_numpy()\n",
    "\n",
    "M = LinearRegression()\n",
    "M.fit(X, y)\n",
    "y_pred = M.predict(X)\n",
    "\n",
    "for iii in range(y.shape[1]):\n",
    "    R2_IEA.append( r2_score( y[:, iii], y_pred[:, iii]) )\n",
    "\n"
   ]
  },
  {
   "cell_type": "code",
   "execution_count": 6,
   "metadata": {},
   "outputs": [],
   "source": [
    "R2_PC = []\n",
    "\n",
    "X = df_used[ [\"PC0_P2\", \"PC1_P2\"] ].to_numpy()\n",
    "y = df_used[ gene_list ].to_numpy()\n",
    "\n",
    "M = LinearRegression()\n",
    "M.fit(X, y)\n",
    "y_pred = M.predict(X)\n",
    "\n",
    "for iii in range(y.shape[1]):\n",
    "    R2_PC.append( r2_score( y[:, iii], y_pred[:, iii]) )\n",
    "\n"
   ]
  },
  {
   "cell_type": "code",
   "execution_count": 7,
   "metadata": {},
   "outputs": [
    {
     "data": {
      "text/plain": [
       "<matplotlib.legend.Legend at 0x7f8f71596e10>"
      ]
     },
     "execution_count": 7,
     "metadata": {},
     "output_type": "execute_result"
    },
    {
     "data": {
      "image/png": "[encoded data removed]",
      "text/plain": [
       "<Figure size 432x288 with 1 Axes>"
      ]
     },
     "metadata": {
      "needs_background": "light"
     },
     "output_type": "display_data"
    }
   ],
   "source": [
    "\n",
    "plt.subplots_adjust(wspace = .25)\n",
    "\n",
    "y1, x1, fig = plt.hist(R2_IEA, bins = 30, range=(0., .15), alpha = .6, label = \"IEAs\")\n",
    "y2, x2, fig = plt.hist(R2_PC, bins = 30, range=(0., .15), alpha = .6, label = \"$PCA-Is$\")\n",
    "\n",
    "plt.xlabel(\"$R^2$\", fontsize = 20)\n",
    "plt.ylabel(\"Counts\", fontsize = 20)\n",
    "plt.xticks(np.linspace(0, .15, 6), np.linspace(0, .15, 6), fontsize = 15)\n",
    "plt.yticks(fontsize = 15)\n",
    "plt.legend(fontsize = 15)\n"
   ]
  },
  {
   "cell_type": "markdown",
   "metadata": {},
   "source": [
    "# Variance Explained for selected genes"
   ]
  },
  {
   "cell_type": "code",
   "execution_count": 8,
   "metadata": {},
   "outputs": [],
   "source": [
    "R2_IEA = []\n",
    "\n",
    "X = df_used[ [\"IEA0\", \"IEA1\"] ].to_numpy()\n",
    "y = df_used[ genes_selected ].to_numpy()\n",
    "\n",
    "M = LinearRegression()\n",
    "M.fit(X, y)\n",
    "y_pred = M.predict(X)\n",
    "\n",
    "for iii in range(y.shape[1]):\n",
    "    R2_IEA.append( r2_score( y[:, iii], y_pred[:, iii]) )\n",
    "\n"
   ]
  },
  {
   "cell_type": "code",
   "execution_count": 9,
   "metadata": {},
   "outputs": [],
   "source": [
    "R2_PC = []\n",
    "\n",
    "X = df_used[ [\"PC0_P2\", \"PC1_P2\"] ].to_numpy()\n",
    "y = df_used[ genes_selected ].to_numpy()\n",
    "\n",
    "M = LinearRegression()\n",
    "M.fit(X, y)\n",
    "y_pred = M.predict(X)\n",
    "\n",
    "for iii in range(y.shape[1]):\n",
    "    R2_PC.append( r2_score( y[:, iii], y_pred[:, iii]) )\n",
    "\n"
   ]
  },
  {
   "cell_type": "code",
   "execution_count": 10,
   "metadata": {},
   "outputs": [
    {
     "data": {
      "text/plain": [
       "<matplotlib.legend.Legend at 0x7f8f7db5c190>"
      ]
     },
     "execution_count": 10,
     "metadata": {},
     "output_type": "execute_result"
    },
    {
     "data": {
      "image/png": "[encoded data removed]",
      "text/plain": [
       "<Figure size 432x288 with 1 Axes>"
      ]
     },
     "metadata": {
      "needs_background": "light"
     },
     "output_type": "display_data"
    }
   ],
   "source": [
    "\n",
    "plt.subplots_adjust(wspace = .25)\n",
    "\n",
    "y1, x1, fig = plt.hist(R2_IEA, bins = 30, range=(0., .2), alpha = .6, label = \"IEAs\")\n",
    "y2, x2, fig = plt.hist(R2_PC, bins = 30, range=(0., .2), alpha = .6, label = \"$PCA-Is$\")\n",
    "\n",
    "plt.xlabel(\"$R^2$\", fontsize = 20)\n",
    "plt.ylabel(\"Counts\", fontsize = 20)\n",
    "plt.xticks(np.linspace(0, .2, 6), np.linspace(0, .2, 6), fontsize = 15)\n",
    "plt.yticks(fontsize = 15)\n",
    "plt.legend(fontsize = 15)\n"
   ]
  }
 ],
 "metadata": {
  "kernelspec": {
   "display_name": "Python 3 (ipykernel)",
   "language": "python",
   "name": "python3"
  },
  "language_info": {
   "codemirror_mode": {
    "name": "ipython",
    "version": 3
   },
   "file_extension": ".py",
   "mimetype": "text/x-python",
   "name": "python",
   "nbconvert_exporter": "python",
   "pygments_lexer": "ipython3",
   "version": "3.7.13"
  }
 },
 "nbformat": 4,
 "nbformat_minor": 4
}
