{
 "cells": [
  {
   "cell_type": "markdown",
   "metadata": {},
   "source": [
    "# Table 4. \n",
    "## Multivariable associations of image-expression axes (IEAs) to Frequent Exacerbations and Mortality. "
   ]
  },
  {
   "cell_type": "code",
   "execution_count": 1,
   "metadata": {},
   "outputs": [],
   "source": [
    "import numpy as np\n",
    "import sys\n",
    "sys.path.append(\"../../src/\")\n",
    "import utility\n",
    "import pandas as pd\n",
    "\n",
    "from matplotlib import pyplot as plt\n",
    "from scipy.stats import pearsonr\n",
    "from scipy.stats import ttest_ind\n",
    "\n",
    "from scipy.stats import kruskal\n",
    "from statsmodels.stats.proportion import proportions_chisquare\n",
    "\n",
    "from mpl_toolkits.axes_grid1.inset_locator import inset_axes\n",
    "import matplotlib\n",
    "\n",
    "import statsmodels.api as sm\n",
    "\n",
    "from scipy import stats\n",
    "\n",
    "import pandas as pd\n",
    "\n",
    "import math\n",
    "\n",
    "\n",
    "from lifelines.datasets import load_rossi\n",
    "from lifelines import CoxPHFitter"
   ]
  },
  {
   "cell_type": "markdown",
   "metadata": {},
   "source": [
    "# Loading data"
   ]
  },
  {
   "cell_type": "code",
   "execution_count": 2,
   "metadata": {},
   "outputs": [],
   "source": [
    "df_IEA_train = pd.read_csv(\"../../output/IEA_train.csv\").set_index(\"sid\")\n",
    "df_IEA_test = pd.read_csv(\"../../output/IEA_test.csv\").set_index(\"sid\")\n",
    "\n",
    "df_IEA_all = pd.concat( [df_IEA_train, df_IEA_test] )"
   ]
  },
  {
   "cell_type": "code",
   "execution_count": null,
   "metadata": {},
   "outputs": [],
   "source": []
  },
  {
   "cell_type": "code",
   "execution_count": 3,
   "metadata": {},
   "outputs": [
    {
     "name": "stderr",
     "output_type": "stream",
     "text": [
      "/ocean/projects/asc170022p/juc91/anaconda/envs/IEA/lib/python3.7/site-packages/pandas/core/generic.py:8870: SettingWithCopyWarning: \n",
      "A value is trying to be set on a copy of a slice from a DataFrame\n",
      "\n",
      "See the caveats in the documentation: https://pandas.pydata.org/pandas-docs/stable/user_guide/indexing.html#returning-a-view-versus-a-copy\n",
      "  return self._update_inplace(result)\n",
      "../../src/utility.py:168: SettingWithCopyWarning: \n",
      "A value is trying to be set on a copy of a slice from a DataFrame.\n",
      "Try using .loc[row_indexer,col_indexer] = value instead\n",
      "\n",
      "See the caveats in the documentation: https://pandas.pydata.org/pandas-docs/stable/user_guide/indexing.html#returning-a-view-versus-a-copy\n",
      "  df_cov[df_cov == \"\"] = \"nan\"\n",
      "/ocean/projects/asc170022p/juc91/anaconda/envs/IEA/lib/python3.7/site-packages/pandas/core/frame.py:3718: SettingWithCopyWarning: \n",
      "A value is trying to be set on a copy of a slice from a DataFrame\n",
      "\n",
      "See the caveats in the documentation: https://pandas.pydata.org/pandas-docs/stable/user_guide/indexing.html#returning-a-view-versus-a-copy\n",
      "  self._where(-key, value, inplace=True)\n"
     ]
    }
   ],
   "source": [
    "df = utility.load_data()\n",
    "\n",
    "df_used = pd.merge(df, df_IEA_all, left_index = True, right_index = True)"
   ]
  },
  {
   "cell_type": "code",
   "execution_count": null,
   "metadata": {},
   "outputs": [],
   "source": []
  },
  {
   "cell_type": "markdown",
   "metadata": {},
   "source": [
    "# Training Logistic Regression models"
   ]
  },
  {
   "cell_type": "code",
   "execution_count": 4,
   "metadata": {},
   "outputs": [],
   "source": [
    "independents = [\"IEA0\", \"IEA1\", \n",
    "       \"Age_P2\", \"gender\", 'race', 'ATS_PackYears_P2', \"smoking_status_P2\",\n",
    "       \n",
    "]\n",
    "models = []"
   ]
  },
  {
   "cell_type": "code",
   "execution_count": 5,
   "metadata": {},
   "outputs": [
    {
     "name": "stdout",
     "output_type": "stream",
     "text": [
      "Optimization terminated successfully.\n",
      "         Current function value: 0.218184\n",
      "         Iterations 7\n",
      "Optimization terminated successfully.\n",
      "         Current function value: 0.191295\n",
      "         Iterations 8\n"
     ]
    }
   ],
   "source": [
    "p_values = []\n",
    "\n",
    "cov_dict = {iii:[] for iii in independents}\n",
    "exp_cov_dict = {iii:[] for iii in independents}\n",
    "            \n",
    "    \n",
    "for ccc in [\"Frequent_Exacerbator_P2\", \"Frequent_Exacerbator_P3\"]:\n",
    "    X = df_used[independents\n",
    "               ]\n",
    "        \n",
    "    y = df_used[ccc]\n",
    "    idx = np.bitwise_and(~np.isnan(y), ~np.isnan(X).any(1))\n",
    "    \n",
    "    X = X[idx]\n",
    "    y = y[idx]\n",
    "    \n",
    "    X = sm.add_constant(X.apply(stats.zscore))\n",
    "    \n",
    "    \n",
    "    M_logit = sm.Logit(y, X).fit()\n",
    "\n",
    "    models.append(M_logit)\n",
    "\n",
    "    \n",
    "    \n",
    "    v = M_logit.summary2().tables[1].values\n",
    "    \n",
    "    \n",
    "    for iii in range(1, len(independents) + 1):\n",
    "        # Obtaining the beta coefficients and 95% confidence intervals        \n",
    "        col = independents[iii-1]\n",
    "        eee = \"{:.2f}\".format(v[iii, 0])\n",
    "        ppp = v[iii, 3]\n",
    "        if ppp<.05:\n",
    "            eee += \"*\"\n",
    "        if ppp<.01:\n",
    "            eee += \"*\"\n",
    "        if ppp<.001:\n",
    "            eee += \"*\"\n",
    "        CI1 = \"({:.2f}, {:.2f})\".format(v[iii, 4], v[iii, 5])\n",
    "        \n",
    "        cov_dict[col].append(eee + CI1)\n",
    "\n",
    "        # Obtaining the odds ratio and 95% confidence intervals\n",
    "        col = independents[iii-1]\n",
    "        eee = \"{:.2f}\".format( np.exp( v[iii, 0]) )\n",
    "        ppp = v[iii, 3]\n",
    "        if ppp<.05:\n",
    "            eee += \"*\"\n",
    "        if ppp<.01:\n",
    "            eee += \"*\"\n",
    "        if ppp<.001:\n",
    "            eee += \"*\"\n",
    "            \n",
    "        CI2 = \"({:.2f}, {:.2f})\".format( np.exp(v[iii, 4]), np.exp(v[iii, 5]))\n",
    "        \n",
    "        exp_cov_dict[col].append(eee + CI2)\n",
    "        \n",
    "    "
   ]
  },
  {
   "cell_type": "markdown",
   "metadata": {},
   "source": [
    "# Training the Cox proportional harzard Model"
   ]
  },
  {
   "cell_type": "code",
   "execution_count": 6,
   "metadata": {},
   "outputs": [],
   "source": [
    "df_used = df_used[ [\"days_P2\", \"vital_status\"] + independents ]\n",
    "\n",
    "df_used = df_used[~df_used.isnull().any(1)]\n",
    "df_used[ independents ] = df_used[ independents ].apply(stats.zscore)\n",
    "\n",
    "M = CoxPHFitter(penalizer = 0., l1_ratio=0.5)\n",
    "M.fit(df_used, duration_col = \"days_P2\", event_col = \"vital_status\")\n",
    "\n",
    "\n",
    "models.append(M)\n",
    "\n",
    "v = M.summary\n",
    "\n",
    "for col in v.index:\n",
    "    # Obtaining the beta coefficients and 95% confidence intervals            \n",
    "    eee = \"{:.2f}\".format( v.loc[col, \"coef\"] )\n",
    "    ppp =  v.loc[col, \"p\"]\n",
    "    if ppp<.05:\n",
    "        eee += \"*\"\n",
    "    if ppp<.01:\n",
    "        eee += \"*\"\n",
    "    if ppp<.001:\n",
    "        eee += \"*\"\n",
    "\n",
    "    CI1 = \"({:.2f}, {:.2f})\".format(v.loc[col, \"coef lower 95%\"], v.loc[col, \"coef upper 95%\"])\n",
    "\n",
    "    cov_dict[col].append(eee + CI1)\n",
    "\n",
    "    # Obtaining the harzard ratio and 95% confidence intervals\n",
    "    eee = \"{:.2f}\".format( np.exp( v.loc[col, \"coef\"] ) )\n",
    "    ppp =  v.loc[col, \"p\"]\n",
    "    if ppp<.05:\n",
    "        eee += \"*\"\n",
    "    if ppp<.01:\n",
    "        eee += \"*\"\n",
    "    if ppp<.001:\n",
    "        eee += \"*\"\n",
    "\n",
    "    CI1 = \"({:.2f}, {:.2f})\".format( np.exp( v.loc[col, \"coef lower 95%\"]), np.exp(v.loc[col, \"coef upper 95%\"]))\n",
    "\n",
    "    exp_cov_dict[col].append(eee + CI1)\n",
    "    "
   ]
  },
  {
   "cell_type": "code",
   "execution_count": null,
   "metadata": {},
   "outputs": [],
   "source": []
  },
  {
   "cell_type": "markdown",
   "metadata": {},
   "source": [
    "# Generating the table"
   ]
  },
  {
   "cell_type": "code",
   "execution_count": 7,
   "metadata": {},
   "outputs": [],
   "source": [
    "rows = [\"Frequent Exacerbator (History)\", \"Frequent Exacerbator (Future)\", \"Mortality\"\n",
    "       ]\n",
    "\n",
    "cols = [\"$\\\\beta_{IEA_{emph}}$ (95%CI)\" , \"Odds / Hazard Ratio\", \"$\\\\beta_{IEA_{airway}}$ (95%CI)\", \"Odds / Hazard Ratio\" ]\n"
   ]
  },
  {
   "cell_type": "code",
   "execution_count": 8,
   "metadata": {},
   "outputs": [],
   "source": [
    "betas = np.array(\n",
    "    [cov_dict[\"IEA0\"], exp_cov_dict[\"IEA0\"], cov_dict[\"IEA1\"], exp_cov_dict[\"IEA1\"],]\n",
    ").T\n",
    "\n"
   ]
  },
  {
   "cell_type": "code",
   "execution_count": 9,
   "metadata": {},
   "outputs": [
    {
     "data": {
      "image/png": "[encoded data removed]",
      "text/plain": [
       "<Figure size 1152x216 with 1 Axes>"
      ]
     },
     "metadata": {
      "needs_background": "light"
     },
     "output_type": "display_data"
    }
   ],
   "source": [
    "fig, ax = plt.subplots(figsize=(16,3))\n",
    "\n",
    "the_table=plt.table(cellText=betas, rowLabels=rows, \n",
    "                    colLabels = cols,\n",
    "                     colWidths = [.15]*betas.shape[1], loc='center', cellLoc = \"center\"\n",
    "                   )\n",
    "\n",
    "plt.axis('off')\n",
    "\n",
    "the_table.auto_set_font_size(False)\n",
    "the_table.set_fontsize(18)\n",
    "the_table.scale(2, 2)"
   ]
  },
  {
   "cell_type": "code",
   "execution_count": null,
   "metadata": {},
   "outputs": [],
   "source": []
  },
  {
   "cell_type": "code",
   "execution_count": null,
   "metadata": {},
   "outputs": [],
   "source": []
  },
  {
   "cell_type": "code",
   "execution_count": null,
   "metadata": {},
   "outputs": [],
   "source": []
  },
  {
   "cell_type": "code",
   "execution_count": null,
   "metadata": {},
   "outputs": [],
   "source": []
  }
 ],
 "metadata": {
  "kernelspec": {
   "display_name": "Python 3 (ipykernel)",
   "language": "python",
   "name": "python3"
  },
  "language_info": {
   "codemirror_mode": {
    "name": "ipython",
    "version": 3
   },
   "file_extension": ".py",
   "mimetype": "text/x-python",
   "name": "python",
   "nbconvert_exporter": "python",
   "pygments_lexer": "ipython3",
   "version": "3.7.13"
  }
 },
 "nbformat": 4,
 "nbformat_minor": 4
}
