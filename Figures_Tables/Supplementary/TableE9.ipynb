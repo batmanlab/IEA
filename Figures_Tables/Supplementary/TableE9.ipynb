{
 "cells": [
  {
   "cell_type": "markdown",
   "metadata": {},
   "source": [
    "# Table E9\n",
    "## Pearson correlation coefficients among image-expression axes (IEAs), factor analysis axes (FAs) and PCA image only axes (PCA-Is), COPD-related characteristics and health outcomes."
   ]
  },
  {
   "cell_type": "code",
   "execution_count": 1,
   "metadata": {},
   "outputs": [],
   "source": [
    "import numpy as np\n",
    "import sys\n",
    "sys.path.append(\"../../src/\")\n",
    "import utility\n",
    "import pandas as pd\n",
    "\n",
    "from matplotlib import pyplot as plt\n",
    "from scipy.stats import pearsonr\n",
    "from scipy.stats import ttest_ind\n",
    "\n",
    "from scipy.stats import kruskal\n",
    "from statsmodels.stats.proportion import proportions_chisquare\n",
    "\n",
    "from mpl_toolkits.axes_grid1.inset_locator import inset_axes\n",
    "import matplotlib\n",
    "\n",
    "import statsmodels.api as sm\n",
    "\n",
    "from scipy import stats\n",
    "\n",
    "import pandas as pd\n",
    "\n",
    "import math\n"
   ]
  },
  {
   "cell_type": "markdown",
   "metadata": {},
   "source": [
    "# Loading data"
   ]
  },
  {
   "cell_type": "code",
   "execution_count": 2,
   "metadata": {},
   "outputs": [
    {
     "name": "stderr",
     "output_type": "stream",
     "text": [
      "/ocean/projects/asc170022p/juc91/anaconda/envs/IEA/lib/python3.7/site-packages/pandas/core/generic.py:8870: SettingWithCopyWarning: \n",
      "A value is trying to be set on a copy of a slice from a DataFrame\n",
      "\n",
      "See the caveats in the documentation: https://pandas.pydata.org/pandas-docs/stable/user_guide/indexing.html#returning-a-view-versus-a-copy\n",
      "  return self._update_inplace(result)\n",
      "../../src/utility.py:168: SettingWithCopyWarning: \n",
      "A value is trying to be set on a copy of a slice from a DataFrame.\n",
      "Try using .loc[row_indexer,col_indexer] = value instead\n",
      "\n",
      "See the caveats in the documentation: https://pandas.pydata.org/pandas-docs/stable/user_guide/indexing.html#returning-a-view-versus-a-copy\n",
      "  df_cov[df_cov == \"\"] = \"nan\"\n",
      "/ocean/projects/asc170022p/juc91/anaconda/envs/IEA/lib/python3.7/site-packages/pandas/core/frame.py:3718: SettingWithCopyWarning: \n",
      "A value is trying to be set on a copy of a slice from a DataFrame\n",
      "\n",
      "See the caveats in the documentation: https://pandas.pydata.org/pandas-docs/stable/user_guide/indexing.html#returning-a-view-versus-a-copy\n",
      "  self._where(-key, value, inplace=True)\n"
     ]
    }
   ],
   "source": [
    "df_IEA_P1 = pd.read_csv(\"../../output/IEA_P1.csv\").set_index(\"sid\")\n",
    "df_data = utility.load_data()\n",
    "df_PCs = utility.load_SSL_PCs()\n",
    "\n",
    "df_merged = pd.merge(df_data, df_IEA_P1, left_index = True, right_index = True)\n",
    "df_merged = pd.merge(df_merged, df_PCs, left_index = True, right_index = True)\n",
    "\n"
   ]
  },
  {
   "cell_type": "code",
   "execution_count": 3,
   "metadata": {},
   "outputs": [],
   "source": [
    "covariances = [\n",
    "               \"BMI_P1\", \"ATS_PackYears_P1\",\n",
    "               \"FEV1pp_utah_P1\", \"FEV1_FVC_utah_P1\", \n",
    "               \"SGRQ_scoreTotal_P1\", \"MMRCDyspneaScor_P1\", \n",
    "               \"distwalked_P1\"\n",
    "               \"Perc15_Insp_Thirona_P1\",\"pctEmph_Thirona_P1\", \"pctGasTrap_Thirona_P1\", \"Pi10_Thirona_P1\", \n",
    "               \"WallAreaPct_seg_Thirona_P1\", \"perc15_ratio\", \n",
    "               \"delta_FEV1pp_P1P2\", \"delta_FEV1FVC_P1P2\",\n",
    "           ] \n",
    "\n",
    "axes_list = [\"IEA0\", \"IEA1\",  'PCA_emphysema_axis', 'PCA_airway_axis', \"PC0_P1\", \"PC1_P1\"]\n"
   ]
  },
  {
   "cell_type": "code",
   "execution_count": 4,
   "metadata": {},
   "outputs": [],
   "source": [
    "cov_label = [iii.replace(\"Frequent_Exacerbator_P1\", \"Frequent Exacerbator (History)\")\\\n",
    "             .replace(\"Frequent_Exacerbator_P2\", \"Frequent Exacerbator (Future)\")\\\n",
    "             .replace(\"smoking_status_P1\", \"%Current Smoker\").replace(\"_P1\", \"\").replace(\"P2\", \"\")\\\n",
    "             .replace(\"ATS_\", \"\").replace(\"_Thirona\", \"\").replace(\"FEV1pp_utah\", \"FEV$_1$%predicted\")\\\n",
    "             .replace(\"FEV1_FVC_utah\", \"FEV$_1$/FVC\").replace(\"distwalked\", \"6-Minute-Walk Distance\").replace(\"pctEmph\", \"%Emphysema at -950HU\")\\\n",
    "             .replace(\"Perc15_Insp\", \"perc15\").replace(\"pctGasTrap\", \"%Gas Trapping\").replace(\"gender\", \"Gender, %females\")\\\n",
    "             .replace(\"race\", \"Race, %African-American\").replace(\"PackYears\", \"Pack Years\").replace(\"WallAreaPct_seg\", \"%WA segmental\")\\\n",
    "             .replace(\"BMI\", \"Body Mass Index (BMI)\").replace(\"Pi10\", \"Pi10\").replace(\"SGRQ_scoreTotal\", \"SGRQ Total Score\")\\\n",
    "             .replace(\"MMRCDyspneaScor\", \"mMRC Dyspnea Score\")\\\n",
    "             .replace(\"FEV1pp\", \"FEV$_1$%predicted\").replace(\"FEV1FVC\", \"FEV$_1$/FVC\").replace(\"WApct\", \"%WA segmental\")\\\n",
    "             .replace(\"delta_\", \"$\\Delta$\")\\\n",
    "             .replace(\"perc15_ratio\", \"$Q_{perc15_{peel-core}}$\")\n",
    "             for iii in covariances]\n",
    "\n",
    "col_labels = [\"IEA$_{emph}$\", \"IEA$_{airway}$\", \"FA$_{emph}$\", \"FA$_{airway}$\", \"PCA-I1\", \"PCA-I2\"]"
   ]
  },
  {
   "cell_type": "markdown",
   "metadata": {},
   "source": [
    "# Computing correlation coefficients and p-values"
   ]
  },
  {
   "cell_type": "code",
   "execution_count": 5,
   "metadata": {},
   "outputs": [
    {
     "ename": "KeyError",
     "evalue": "\"['distwalked_P1Perc15_Insp_Thirona_P1'] not in index\"",
     "output_type": "error",
     "traceback": [
      "\u001b[0;31m---------------------------------------------------------------------------\u001b[0m",
      "\u001b[0;31mKeyError\u001b[0m                                  Traceback (most recent call last)",
      "\u001b[0;32m/tmp/ipykernel_38018/4197363772.py\u001b[0m in \u001b[0;36m<module>\u001b[0;34m\u001b[0m\n\u001b[0;32m----> 1\u001b[0;31m \u001b[0mdf_used\u001b[0m \u001b[0;34m=\u001b[0m \u001b[0mdf_merged\u001b[0m\u001b[0;34m[\u001b[0m\u001b[0mcovariances\u001b[0m \u001b[0;34m+\u001b[0m \u001b[0maxes_list\u001b[0m\u001b[0;34m]\u001b[0m\u001b[0;34m\u001b[0m\u001b[0;34m\u001b[0m\u001b[0m\n\u001b[0m\u001b[1;32m      2\u001b[0m \u001b[0;34m\u001b[0m\u001b[0m\n\u001b[1;32m      3\u001b[0m \u001b[0mpearson_table\u001b[0m \u001b[0;34m=\u001b[0m \u001b[0;34m[\u001b[0m\u001b[0;34m]\u001b[0m\u001b[0;34m\u001b[0m\u001b[0;34m\u001b[0m\u001b[0m\n\u001b[1;32m      4\u001b[0m \u001b[0;34m\u001b[0m\u001b[0m\n\u001b[1;32m      5\u001b[0m \u001b[0;32mfor\u001b[0m \u001b[0miii\u001b[0m \u001b[0;32min\u001b[0m \u001b[0mcovariances\u001b[0m\u001b[0;34m:\u001b[0m\u001b[0;34m\u001b[0m\u001b[0;34m\u001b[0m\u001b[0m\n",
      "\u001b[0;32m/ocean/projects/asc170022p/juc91/anaconda/envs/IEA/lib/python3.7/site-packages/pandas/core/frame.py\u001b[0m in \u001b[0;36m__getitem__\u001b[0;34m(self, key)\u001b[0m\n\u001b[1;32m   3462\u001b[0m             \u001b[0;32mif\u001b[0m \u001b[0mis_iterator\u001b[0m\u001b[0;34m(\u001b[0m\u001b[0mkey\u001b[0m\u001b[0;34m)\u001b[0m\u001b[0;34m:\u001b[0m\u001b[0;34m\u001b[0m\u001b[0;34m\u001b[0m\u001b[0m\n\u001b[1;32m   3463\u001b[0m                 \u001b[0mkey\u001b[0m \u001b[0;34m=\u001b[0m \u001b[0mlist\u001b[0m\u001b[0;34m(\u001b[0m\u001b[0mkey\u001b[0m\u001b[0;34m)\u001b[0m\u001b[0;34m\u001b[0m\u001b[0;34m\u001b[0m\u001b[0m\n\u001b[0;32m-> 3464\u001b[0;31m             \u001b[0mindexer\u001b[0m \u001b[0;34m=\u001b[0m \u001b[0mself\u001b[0m\u001b[0;34m.\u001b[0m\u001b[0mloc\u001b[0m\u001b[0;34m.\u001b[0m\u001b[0m_get_listlike_indexer\u001b[0m\u001b[0;34m(\u001b[0m\u001b[0mkey\u001b[0m\u001b[0;34m,\u001b[0m \u001b[0maxis\u001b[0m\u001b[0;34m=\u001b[0m\u001b[0;36m1\u001b[0m\u001b[0;34m)\u001b[0m\u001b[0;34m[\u001b[0m\u001b[0;36m1\u001b[0m\u001b[0;34m]\u001b[0m\u001b[0;34m\u001b[0m\u001b[0;34m\u001b[0m\u001b[0m\n\u001b[0m\u001b[1;32m   3465\u001b[0m \u001b[0;34m\u001b[0m\u001b[0m\n\u001b[1;32m   3466\u001b[0m         \u001b[0;31m# take() does not accept boolean indexers\u001b[0m\u001b[0;34m\u001b[0m\u001b[0;34m\u001b[0m\u001b[0;34m\u001b[0m\u001b[0m\n",
      "\u001b[0;32m/ocean/projects/asc170022p/juc91/anaconda/envs/IEA/lib/python3.7/site-packages/pandas/core/indexing.py\u001b[0m in \u001b[0;36m_get_listlike_indexer\u001b[0;34m(self, key, axis)\u001b[0m\n\u001b[1;32m   1312\u001b[0m             \u001b[0mkeyarr\u001b[0m\u001b[0;34m,\u001b[0m \u001b[0mindexer\u001b[0m\u001b[0;34m,\u001b[0m \u001b[0mnew_indexer\u001b[0m \u001b[0;34m=\u001b[0m \u001b[0max\u001b[0m\u001b[0;34m.\u001b[0m\u001b[0m_reindex_non_unique\u001b[0m\u001b[0;34m(\u001b[0m\u001b[0mkeyarr\u001b[0m\u001b[0;34m)\u001b[0m\u001b[0;34m\u001b[0m\u001b[0;34m\u001b[0m\u001b[0m\n\u001b[1;32m   1313\u001b[0m \u001b[0;34m\u001b[0m\u001b[0m\n\u001b[0;32m-> 1314\u001b[0;31m         \u001b[0mself\u001b[0m\u001b[0;34m.\u001b[0m\u001b[0m_validate_read_indexer\u001b[0m\u001b[0;34m(\u001b[0m\u001b[0mkeyarr\u001b[0m\u001b[0;34m,\u001b[0m \u001b[0mindexer\u001b[0m\u001b[0;34m,\u001b[0m \u001b[0maxis\u001b[0m\u001b[0;34m)\u001b[0m\u001b[0;34m\u001b[0m\u001b[0;34m\u001b[0m\u001b[0m\n\u001b[0m\u001b[1;32m   1315\u001b[0m \u001b[0;34m\u001b[0m\u001b[0m\n\u001b[1;32m   1316\u001b[0m         if needs_i8_conversion(ax.dtype) or isinstance(\n",
      "\u001b[0;32m/ocean/projects/asc170022p/juc91/anaconda/envs/IEA/lib/python3.7/site-packages/pandas/core/indexing.py\u001b[0m in \u001b[0;36m_validate_read_indexer\u001b[0;34m(self, key, indexer, axis)\u001b[0m\n\u001b[1;32m   1375\u001b[0m \u001b[0;34m\u001b[0m\u001b[0m\n\u001b[1;32m   1376\u001b[0m             \u001b[0mnot_found\u001b[0m \u001b[0;34m=\u001b[0m \u001b[0mlist\u001b[0m\u001b[0;34m(\u001b[0m\u001b[0mensure_index\u001b[0m\u001b[0;34m(\u001b[0m\u001b[0mkey\u001b[0m\u001b[0;34m)\u001b[0m\u001b[0;34m[\u001b[0m\u001b[0mmissing_mask\u001b[0m\u001b[0;34m.\u001b[0m\u001b[0mnonzero\u001b[0m\u001b[0;34m(\u001b[0m\u001b[0;34m)\u001b[0m\u001b[0;34m[\u001b[0m\u001b[0;36m0\u001b[0m\u001b[0;34m]\u001b[0m\u001b[0;34m]\u001b[0m\u001b[0;34m.\u001b[0m\u001b[0munique\u001b[0m\u001b[0;34m(\u001b[0m\u001b[0;34m)\u001b[0m\u001b[0;34m)\u001b[0m\u001b[0;34m\u001b[0m\u001b[0;34m\u001b[0m\u001b[0m\n\u001b[0;32m-> 1377\u001b[0;31m             \u001b[0;32mraise\u001b[0m \u001b[0mKeyError\u001b[0m\u001b[0;34m(\u001b[0m\u001b[0;34mf\"{not_found} not in index\"\u001b[0m\u001b[0;34m)\u001b[0m\u001b[0;34m\u001b[0m\u001b[0;34m\u001b[0m\u001b[0m\n\u001b[0m\u001b[1;32m   1378\u001b[0m \u001b[0;34m\u001b[0m\u001b[0m\n\u001b[1;32m   1379\u001b[0m \u001b[0;34m\u001b[0m\u001b[0m\n",
      "\u001b[0;31mKeyError\u001b[0m: \"['distwalked_P1Perc15_Insp_Thirona_P1'] not in index\""
     ]
    }
   ],
   "source": [
    "df_used = df_merged[covariances + axes_list]\n",
    "\n",
    "pearson_table = []\n",
    "\n",
    "for iii in covariances:\n",
    "    tmp = []\n",
    "    for jjj in axes_list:\n",
    "        \n",
    "        x = df_used[iii] \n",
    "        y = df_used[jjj]\n",
    "        \n",
    "        idx = np.bitwise_and(~np.isnan(x), ~np.isnan(y))\n",
    "        \n",
    "        r,p = pearsonr(x[idx], y[idx])\n",
    "        tmp.append(\"{:.2f}\".format(r))\n",
    "        if p < .05:\n",
    "            tmp[-1] += \"*\"\n",
    "        if p < .01:\n",
    "            tmp[-1] += \"*\"\n",
    "        if p < .001:\n",
    "            tmp[-1] += \"*\"\n",
    "            \n",
    "    pearson_table.append(tmp)\n",
    "        \n",
    "    \n",
    "    \n"
   ]
  },
  {
   "cell_type": "markdown",
   "metadata": {},
   "source": [
    "# Generating the table"
   ]
  },
  {
   "cell_type": "code",
   "execution_count": null,
   "metadata": {},
   "outputs": [],
   "source": [
    "fig, ax = plt.subplots(figsize=(16,12))\n",
    "\n",
    "the_table=plt.table(cellText=pearson_table, rowLabels=cov_label, \n",
    "                    colLabels = col_labels,\n",
    "                     colWidths = [.1]*len(pearson_table), loc='center', fontsize = 50, cellLoc = \"center\"\n",
    "                   )\n",
    "\n",
    "plt.axis('off')\n",
    "\n",
    "the_table.auto_set_font_size(False)\n",
    "the_table.set_fontsize(18)\n",
    "the_table.scale(2, 2)"
   ]
  }
 ],
 "metadata": {
  "kernelspec": {
   "display_name": "Python 3 (ipykernel)",
   "language": "python",
   "name": "python3"
  },
  "language_info": {
   "codemirror_mode": {
    "name": "ipython",
    "version": 3
   },
   "file_extension": ".py",
   "mimetype": "text/x-python",
   "name": "python",
   "nbconvert_exporter": "python",
   "pygments_lexer": "ipython3",
   "version": "3.7.13"
  }
 },
 "nbformat": 4,
 "nbformat_minor": 4
}
