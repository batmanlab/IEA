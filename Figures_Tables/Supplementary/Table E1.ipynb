{
 "cells": [
  {
   "cell_type": "code",
   "execution_count": 1,
   "metadata": {},
   "outputs": [],
   "source": [
    "import sys\n",
    "sys.path.append(\"../../src/\")\n",
    "import IEA_model\n",
    "import numpy as np\n",
    "import torch\n",
    "import pandas as pd\n",
    "from torch.utils.data import DataLoader\n",
    "import utility\n",
    "\n",
    "from importlib import reload \n",
    "\n",
    "from sklearn.linear_model import LinearRegression\n",
    "from matplotlib import pyplot as plt "
   ]
  },
  {
   "cell_type": "code",
   "execution_count": 2,
   "metadata": {},
   "outputs": [
    {
     "name": "stderr",
     "output_type": "stream",
     "text": [
      "/ocean/projects/asc170022p/juc91/anaconda/lib/python3.8/site-packages/pandas/core/frame.py:3065: SettingWithCopyWarning: \n",
      "A value is trying to be set on a copy of a slice from a DataFrame.\n",
      "Try using .loc[row_indexer,col_indexer] = value instead\n",
      "\n",
      "See the caveats in the documentation: https://pandas.pydata.org/pandas-docs/stable/user_guide/indexing.html#returning-a-view-versus-a-copy\n",
      "  self[k1] = value[k2]\n",
      "/ocean/projects/asc170022p/juc91/anaconda/lib/python3.8/site-packages/pandas/core/frame.py:3065: SettingWithCopyWarning: \n",
      "A value is trying to be set on a copy of a slice from a DataFrame.\n",
      "Try using .loc[row_indexer,col_indexer] = value instead\n",
      "\n",
      "See the caveats in the documentation: https://pandas.pydata.org/pandas-docs/stable/user_guide/indexing.html#returning-a-view-versus-a-copy\n",
      "  self[k1] = value[k2]\n"
     ]
    }
   ],
   "source": [
    "    data_train = utility.image_gene_dataset(train = True, cv = None)\n",
    "    data_test = utility.image_gene_dataset(train = False, cv = None)\n",
    "\n",
    "    train_loader = DataLoader(data_train)\n",
    "    test_loader = DataLoader(data_test)\n",
    "\n",
    "\n",
    "    sid_train, features_train, genes_train = data_train[:]\n",
    "    sid_test, features_test, genes_test = data_test[:]\n",
    "\n",
    "    sid_P1, features_P1 = utility.load_SSL_features_P1()\n",
    "    features_P1 = torch.tensor(features_P1)"
   ]
  },
  {
   "cell_type": "code",
   "execution_count": 3,
   "metadata": {},
   "outputs": [],
   "source": [
    "def get_aligned_axes(thold):\n",
    "\n",
    "    beta = .1\n",
    "    gamma = 1.0\n",
    "    L = 2\n",
    "    \n",
    "    df = pd.read_csv(\"../../gene_list_PCA/THOLD_{}.txt\".format(thold))\n",
    "    idx_gene = df[\"index\"].to_numpy()\n",
    "\n",
    "\n",
    "    \n",
    "    \n",
    "    Z_train_cv = []\n",
    "    Z_test_cv = []\n",
    "    Z_P1_cv = []\n",
    "\n",
    "\n",
    "    M = IEA_model.IEA( L = L,  idx_gene = idx_gene ).cuda()\n",
    "\n",
    "    for cv in range(5):\n",
    "        filename = \"../../models/model_L{}_cv{}_beta{}_gamma{}_genes{}\".format(L, cv, beta, gamma, len(idx_gene))\n",
    "\n",
    "        M.load_state_dict( torch.load(filename) )\n",
    "\n",
    "        with torch.no_grad():\n",
    "            _, _, _, Z_train = M.forward( features_train.cuda(), non_prb = True )\n",
    "            Z_train_cv.append( Z_train.cpu().data.numpy() )\n",
    "\n",
    "            _, _, _, Z_test = M.forward( features_test.cuda(), non_prb = True  )\n",
    "            Z_test_cv.append( Z_test.cpu().data.numpy() )\n",
    "\n",
    "\n",
    "\n",
    "    Z_train_cv = np.array( Z_train_cv )\n",
    "    Z_test_cv = np.array( Z_test_cv )\n",
    "\n",
    "\n",
    "    Z_test_aligned = []\n",
    "\n",
    "    for cv in range(0,5):\n",
    "        Z_cat = np.concatenate( [ Z_train_cv[ 0, :, : ], Z_train_cv[ cv, :, : ] ], axis = 1 )\n",
    "        corrcoef = np.corrcoef(Z_cat.T)\n",
    "\n",
    "\n",
    "        Z_test = []\n",
    "        for lll in range(L):\n",
    "\n",
    "            corr_lll = corrcoef[lll, L:]\n",
    "            idx_lll = np.argmax( np.abs(corr_lll) )\n",
    "\n",
    "            mean = Z_train_cv[cv, :, idx_lll].mean()\n",
    "            std = Z_train_cv[cv, :, idx_lll].std()\n",
    "\n",
    "            if corr_lll[idx_lll]>0:\n",
    "                Z_test.append( ( Z_test_cv[cv, :, idx_lll] - mean ) / std  )\n",
    "            else:\n",
    "                Z_test.append( - ( Z_test_cv[cv, :, idx_lll] - mean) / std )\n",
    "\n",
    "\n",
    "        Z_test_aligned.append( np.array(Z_test).T )\n",
    "\n",
    "    Z_test_aligned = np.array(Z_test_aligned)\n",
    "    \n",
    "    return Z_test_aligned"
   ]
  },
  {
   "cell_type": "code",
   "execution_count": 4,
   "metadata": {},
   "outputs": [],
   "source": [
    "def compute_pairwise_corrcoef(axes, idx):\n",
    "    coef = np.corrcoef(axes[:, :, idx])\n",
    "    coef_off_diag = np.array( [coef[iii, jjj] for iii in range(5) for jjj in range(iii)] )\n",
    "    return coef_off_diag.mean(), coef_off_diag.std()"
   ]
  },
  {
   "cell_type": "code",
   "execution_count": 10,
   "metadata": {},
   "outputs": [
    {
     "name": "stderr",
     "output_type": "stream",
     "text": [
      "/ocean/projects/asc170022p/juc91/anaconda/lib/python3.8/site-packages/pandas/core/series.py:1020: SettingWithCopyWarning: \n",
      "A value is trying to be set on a copy of a slice from a DataFrame\n",
      "\n",
      "See the caveats in the documentation: https://pandas.pydata.org/pandas-docs/stable/user_guide/indexing.html#returning-a-view-versus-a-copy\n",
      "  self._where(~key, value, inplace=True)\n",
      "/ocean/projects/asc170022p/juc91/anaconda/lib/python3.8/site-packages/pandas/core/series.py:1020: SettingWithCopyWarning: \n",
      "A value is trying to be set on a copy of a slice from a DataFrame\n",
      "\n",
      "See the caveats in the documentation: https://pandas.pydata.org/pandas-docs/stable/user_guide/indexing.html#returning-a-view-versus-a-copy\n",
      "  self._where(~key, value, inplace=True)\n",
      "/ocean/projects/asc170022p/juc91/anaconda/lib/python3.8/site-packages/pandas/core/series.py:1020: SettingWithCopyWarning: \n",
      "A value is trying to be set on a copy of a slice from a DataFrame\n",
      "\n",
      "See the caveats in the documentation: https://pandas.pydata.org/pandas-docs/stable/user_guide/indexing.html#returning-a-view-versus-a-copy\n",
      "  self._where(~key, value, inplace=True)\n",
      "../../utility.py:163: SettingWithCopyWarning: \n",
      "A value is trying to be set on a copy of a slice from a DataFrame.\n",
      "Try using .loc[row_indexer,col_indexer] = value instead\n",
      "\n",
      "See the caveats in the documentation: https://pandas.pydata.org/pandas-docs/stable/user_guide/indexing.html#returning-a-view-versus-a-copy\n",
      "  df_cov[df_cov == \"\"] = \"nan\"\n",
      "/ocean/projects/asc170022p/juc91/anaconda/lib/python3.8/site-packages/pandas/core/frame.py:3089: SettingWithCopyWarning: \n",
      "A value is trying to be set on a copy of a slice from a DataFrame\n",
      "\n",
      "See the caveats in the documentation: https://pandas.pydata.org/pandas-docs/stable/user_guide/indexing.html#returning-a-view-versus-a-copy\n",
      "  self._where(-key, value, inplace=True)\n",
      "/ocean/projects/asc170022p/juc91/anaconda/lib/python3.8/site-packages/pandas/core/series.py:1020: SettingWithCopyWarning: \n",
      "A value is trying to be set on a copy of a slice from a DataFrame\n",
      "\n",
      "See the caveats in the documentation: https://pandas.pydata.org/pandas-docs/stable/user_guide/indexing.html#returning-a-view-versus-a-copy\n",
      "  self._where(~key, value, inplace=True)\n"
     ]
    }
   ],
   "source": [
    "df_data = utility.load_longitudinal()"
   ]
  },
  {
   "cell_type": "code",
   "execution_count": 19,
   "metadata": {},
   "outputs": [],
   "source": [
    "    df_IEA = pd.DataFrame( IEA[0], index = sid_test, columns = [\"IEA{}\".format(iii) for iii in range(L) ] )\n",
    "    \n",
    "    df_used = pd.merge(df_data, df_IEA, left_index = True, right_index = True)"
   ]
  },
  {
   "cell_type": "code",
   "execution_count": 24,
   "metadata": {},
   "outputs": [
    {
     "data": {
      "text/plain": [
       "0.7166961434679603"
      ]
     },
     "execution_count": 24,
     "metadata": {},
     "output_type": "execute_result"
    }
   ],
   "source": [
    "df_used[\"IEA0\"].corr(df_used[\"Perc15_Insp_Thirona_P2\"])"
   ]
  },
  {
   "cell_type": "code",
   "execution_count": 33,
   "metadata": {},
   "outputs": [],
   "source": [
    "IEA = get_aligned_axes(thold = thold)\n"
   ]
  },
  {
   "cell_type": "code",
   "execution_count": null,
   "metadata": {},
   "outputs": [],
   "source": []
  },
  {
   "cell_type": "code",
   "execution_count": 43,
   "metadata": {},
   "outputs": [
    {
     "name": "stdout",
     "output_type": "stream",
     "text": [
      "1.0 0.37262178476999475 0.7875192252006626\n",
      "0.05 -0.6100205156402244 0.7307874381342585\n",
      "0.01 -0.5300485624349732 -0.7192072997193066\n",
      "0.005 -0.6086904815532685 -0.7189979396461605\n",
      "0.0005 -0.5219088126111351 0.7224044325625236\n",
      "0.0001 -0.5233287576979337 0.7342241043429846\n"
     ]
    }
   ],
   "source": [
    "df_data = utility.load_longitudinal()\n",
    "\n",
    "res = []\n",
    "L = 2\n",
    "thold_list = [1., .05, .01, 5e-3, 1e-3, 5e-4, 1e-4, 5e-5, 1e-5 ]\n",
    "\n",
    "\n",
    "for thold in thold_list:\n",
    "    df = pd.read_csv(\"../../gene_list_PCA/THOLD_{}.txt\".format(thold))\n",
    "    idx_gene = df[\"index\"].to_numpy()\n",
    "    res_row = [ str(thold) ]\n",
    "    \n",
    "    res_row.append( \"{:,}\".format(len(idx_gene)) )\n",
    "    \n",
    "    IEA = get_aligned_axes(thold = thold)\n",
    "    df_IEA = pd.DataFrame( IEA[0], index = sid_test, columns = [\"IEA{}\".format(iii) for iii in range(L) ] )\n",
    "    \n",
    "    df_used = pd.merge(df_data, df_IEA, left_index = True, right_index = True)\n",
    "    \n",
    "    if np.abs( df_used[\"IEA0\"].corr(df_used[\"Perc15_Insp_Thirona_P2\"]) ) < np.abs( df_used[\"IEA1\"].corr(df_used[\"Perc15_Insp_Thirona_P2\"]) ): \n",
    "        IEA = IEA[:, :, [1,0]] # Make sure the first axis is the emphysema axes.\n",
    "    \n",
    "    for lll in range(L):\n",
    "        mean, std = compute_pairwise_corrcoef(IEA, lll)\n",
    "        res_row.append( \"{:.2f} $\\pm$ {:.2f} \".format(mean, std)  )\n",
    "        \n",
    "    res.append(res_row)\n",
    "res = np.array(res)        "
   ]
  },
  {
   "cell_type": "code",
   "execution_count": 52,
   "metadata": {},
   "outputs": [],
   "source": [
    "cols = [\"adj p-value threshold\", \"Number of genes\", \"Pearson's r ( IEA$_{emph}$)\", \"Pearson's r ( IEA$_{airway}$)\"]"
   ]
  },
  {
   "cell_type": "code",
   "execution_count": 53,
   "metadata": {},
   "outputs": [
    {
     "data": {
      "image/png": "[encoded data removed]",
      "text/plain": [
       "<Figure size 576x288 with 1 Axes>"
      ]
     },
     "metadata": {
      "needs_background": "light"
     },
     "output_type": "display_data"
    }
   ],
   "source": [
    "plt.figure(figsize=(8,4))\n",
    "the_table=plt.table(cellText=res, colLabels = cols,\n",
    "                    colWidths = [.25]*res.shape[1], loc='center',cellLoc = \"center\")\n",
    "plt.axis('off')\n",
    "the_table.auto_set_font_size(False)\n",
    "the_table.set_fontsize(18)\n",
    "the_table.scale(2, 2)"
   ]
  },
  {
   "cell_type": "code",
   "execution_count": null,
   "metadata": {},
   "outputs": [],
   "source": []
  },
  {
   "cell_type": "code",
   "execution_count": null,
   "metadata": {},
   "outputs": [],
   "source": []
  }
 ],
 "metadata": {
  "kernelspec": {
   "display_name": "Python 3",
   "language": "python",
   "name": "python3"
  },
  "language_info": {
   "codemirror_mode": {
    "name": "ipython",
    "version": 3
   },
   "file_extension": ".py",
   "mimetype": "text/x-python",
   "name": "python",
   "nbconvert_exporter": "python",
   "pygments_lexer": "ipython3",
   "version": "3.8.5"
  }
 },
 "nbformat": 4,
 "nbformat_minor": 4
}
