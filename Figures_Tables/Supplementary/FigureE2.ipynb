{
 "cells": [
  {
   "cell_type": "markdown",
   "metadata": {},
   "source": [
    "# Figure E2 \n",
    "## Variance of gene expression explained by IEAs as we variate the number of IEAs."
   ]
  },
  {
   "cell_type": "code",
   "execution_count": 1,
   "metadata": {},
   "outputs": [],
   "source": [
    "import sys\n",
    "sys.path.append(\"../../src/\")\n",
    "import IEA_model\n",
    "import numpy as np\n",
    "import torch\n",
    "import pandas as pd\n",
    "from torch.utils.data import DataLoader\n",
    "import utility\n",
    "\n",
    "from importlib import reload \n",
    "\n",
    "from sklearn.linear_model import LinearRegression\n",
    "from matplotlib import pyplot as plt "
   ]
  },
  {
   "cell_type": "markdown",
   "metadata": {},
   "source": [
    "# Loading data"
   ]
  },
  {
   "cell_type": "code",
   "execution_count": 2,
   "metadata": {},
   "outputs": [
    {
     "name": "stderr",
     "output_type": "stream",
     "text": [
      "/ocean/projects/asc170022p/juc91/anaconda/envs/IEA/lib/python3.7/site-packages/pandas/core/frame.py:3641: SettingWithCopyWarning: \n",
      "A value is trying to be set on a copy of a slice from a DataFrame.\n",
      "Try using .loc[row_indexer,col_indexer] = value instead\n",
      "\n",
      "See the caveats in the documentation: https://pandas.pydata.org/pandas-docs/stable/user_guide/indexing.html#returning-a-view-versus-a-copy\n",
      "  self[k1] = value[k2]\n"
     ]
    }
   ],
   "source": [
    "    data_train = utility.image_gene_dataset(train = True, cv = None)\n",
    "    data_test = utility.image_gene_dataset(train = False, cv = None)\n",
    "\n",
    "    train_loader = DataLoader(data_train)\n",
    "    test_loader = DataLoader(data_test)\n",
    "\n",
    "\n",
    "    sid_train, features_train, genes_train = data_train[:]\n",
    "    sid_test, features_test, genes_test = data_test[:]\n",
    "\n",
    "    sid_P1, features_P1 = utility.load_SSL_features_P1()\n",
    "    features_P1 = torch.tensor(features_P1)\n",
    "    \n"
   ]
  },
  {
   "cell_type": "code",
   "execution_count": 3,
   "metadata": {},
   "outputs": [],
   "source": [
    "thold = 0.01\n",
    "\n",
    "df_genes = utility.load_gene_data()\n",
    "\n",
    "df = pd.read_csv(\"../../gene_list/THOLD_{}.txt\".format(thold))\n",
    "idx_gene = df[\"index\"].to_numpy()\n"
   ]
  },
  {
   "cell_type": "code",
   "execution_count": null,
   "metadata": {},
   "outputs": [],
   "source": []
  },
  {
   "cell_type": "code",
   "execution_count": null,
   "metadata": {},
   "outputs": [],
   "source": []
  },
  {
   "cell_type": "code",
   "execution_count": 4,
   "metadata": {},
   "outputs": [],
   "source": [
    "def get_aligned_axes(L):\n",
    "    \"\"\"\n",
    "    Return the aligned axes.\n",
    "    L: The number of IEAs.\n",
    "    \"\"\"\n",
    "    \n",
    "    beta = .1\n",
    "    gamma = 1.0\n",
    "    \n",
    "    \n",
    "    Z_train_cv = []\n",
    "    Z_test_cv = []\n",
    "    Z_P1_cv = []\n",
    "\n",
    "\n",
    "    M = IEA_model.IEA( L = L,  idx_gene = idx_gene ).cuda()\n",
    "    # Generate the IEAs with the cross-valudation models\n",
    "\n",
    "    for cv in range(5):\n",
    "        filename = \"../../models/model_L{}_cv{}_beta{}_gamma{}_genes{}\".format(L, cv, beta, gamma, len(idx_gene))\n",
    "\n",
    "        M.load_state_dict( torch.load(filename) )\n",
    "\n",
    "        with torch.no_grad():\n",
    "            _, _, _, Z_train = M.forward( features_train.cuda(), non_prb = True )\n",
    "            Z_train_cv.append( Z_train.cpu().data.numpy() )\n",
    "\n",
    "            _, _, _, Z_test = M.forward( features_test.cuda(), non_prb = True  )\n",
    "            Z_test_cv.append( Z_test.cpu().data.numpy() )\n",
    "\n",
    "\n",
    "\n",
    "    Z_train_cv = np.array( Z_train_cv )\n",
    "    Z_test_cv = np.array( Z_test_cv )\n",
    "\n",
    "\n",
    "    Z_test_aligned = []\n",
    "    Z_train_aligned = []\n",
    "    \n",
    "    # Align the IEAs from models with different cross-validation.\n",
    "    for cv in range(0,5):\n",
    "        Z_cat = np.concatenate( [ Z_train_cv[ 0, :, : ], Z_train_cv[ cv, :, : ] ], axis = 1 )\n",
    "        corrcoef = np.corrcoef(Z_cat.T)\n",
    "\n",
    "\n",
    "        Z_test = []\n",
    "        Z_train = []\n",
    "        for lll in range(L):\n",
    "\n",
    "            corr_lll = corrcoef[lll, L:]\n",
    "            idx_lll = np.argmax( np.abs(corr_lll) )\n",
    "\n",
    "            mean = Z_train_cv[cv, :, idx_lll].mean()\n",
    "            std = Z_train_cv[cv, :, idx_lll].std()\n",
    "\n",
    "            if corr_lll[idx_lll]>0:\n",
    "                Z_train.append( ( Z_train_cv[cv, :, idx_lll] - mean ) / std  )\n",
    "                Z_test.append( ( Z_test_cv[cv, :, idx_lll] - mean ) / std  )\n",
    "            else:\n",
    "                Z_train.append( - ( Z_train_cv[cv, :, idx_lll] - mean ) / std  )                \n",
    "                Z_test.append( - ( Z_test_cv[cv, :, idx_lll] - mean) / std )\n",
    "\n",
    "        Z_train_aligned.append( np.array(Z_train).T  )\n",
    "        Z_test_aligned.append( np.array(Z_test).T )\n",
    "\n",
    "    Z_train_aligned = np.array(Z_train_aligned)\n",
    "    Z_test_aligned = np.array(Z_test_aligned)\n",
    "    \n",
    "    return Z_train_aligned, Z_test_aligned"
   ]
  },
  {
   "cell_type": "code",
   "execution_count": 5,
   "metadata": {},
   "outputs": [],
   "source": [
    "def compute_pairwise_corrcoef(axes, idx):\n",
    "    coef = np.corrcoef(axes[:, :, idx])\n",
    "    coef_off_diag = np.array( [coef[iii, jjj] for iii in range(5) for jjj in range(iii)] )\n",
    "    return coef_off_diag.mean(), coef_off_diag.std()"
   ]
  },
  {
   "cell_type": "code",
   "execution_count": null,
   "metadata": {},
   "outputs": [],
   "source": []
  },
  {
   "cell_type": "code",
   "execution_count": 6,
   "metadata": {},
   "outputs": [],
   "source": [
    "L_list = list(range(1, 6))\n",
    "genelist = [ggg for ggg in df_genes.columns if \"ENSG\" in ggg]\n",
    "\n",
    "R2_all = []\n",
    "R2_selected = []\n",
    "\n",
    "for L in L_list:\n",
    "    df = pd.read_csv(\"../../gene_list/THOLD_{}.txt\".format(thold))\n",
    "    idx_gene = df[\"index\"].to_numpy()\n",
    "    res_row = [ str(thold) ]\n",
    "    \n",
    "    res_row.append( str(len(idx_gene)) )\n",
    "    \n",
    "    # Obtaining the final IEAs\n",
    "    \n",
    "    IEA_train, IEA_test = get_aligned_axes(L)\n",
    "    \n",
    "    final_IEA_train = IEA_train.sum(0)\n",
    "    final_IEA_test = IEA_test.sum(0)\n",
    "    \n",
    "    df_IEA_train = pd.DataFrame(final_IEA_train, index = sid_train , columns = [\"IEA{}\".format(iii) for iii in range(L)] )\n",
    "    df_IEA_test = pd.DataFrame(final_IEA_test, index = sid_test  , columns = [\"IEA{}\".format(iii) for iii in range(L)] )    \n",
    "    \n",
    "    df_IEA_genes_train = pd.merge(df_IEA_train, df_genes, left_index = True, right_index = True)\n",
    "    df_IEA_genes_test = pd.merge(df_IEA_test, df_genes, left_index = True, right_index = True)    \n",
    "    \n",
    "    \n",
    "    X_train = df_IEA_genes_train[ [\"IEA{}\".format(iii) for iii in range(L)] ]\n",
    "    y_train = df_IEA_genes_train[ genelist ].to_numpy()\n",
    "    X_test = df_IEA_genes_test[ [\"IEA{}\".format(iii) for iii in range(L)] ]\n",
    "    y_test = df_IEA_genes_test[ genelist ].to_numpy()\n",
    "    \n",
    "    \n",
    "    # Computing the R-squared scores for all genes\n",
    "    M = LinearRegression()\n",
    "    M.fit( X_train, y_train )\n",
    "    R2_all.append( M.score(X_test, y_test) )\n",
    "\n",
    "    # Computing the R-squared scores for all the selected genes\n",
    "    M.fit( X_train, y_train[:, idx_gene] )\n",
    "    R2_selected.append( M.score(X_test, y_test[:, idx_gene]) )\n",
    "    \n",
    "    "
   ]
  },
  {
   "cell_type": "markdown",
   "metadata": {},
   "source": [
    "# Plotting the total variance explained for the selected genes"
   ]
  },
  {
   "cell_type": "code",
   "execution_count": 7,
   "metadata": {},
   "outputs": [
    {
     "data": {
      "image/png": "[encoded data removed]",
      "text/plain": [
       "<Figure size 432x288 with 1 Axes>"
      ]
     },
     "metadata": {
      "needs_background": "light"
     },
     "output_type": "display_data"
    }
   ],
   "source": [
    "plt.plot(range(1, 6), R2_selected, linewidth = 3)\n",
    "plt.xlabel(\"Number of IEAs\", fontsize = 15)\n",
    "plt.ylabel(\"Total Variance Explained\", fontsize = 15)\n",
    "_ = plt.xticks( range(1,6), range(1,6), fontsize = 15 )\n",
    "\n",
    "_ = plt.yticks( fontsize = 15 )"
   ]
  },
  {
   "cell_type": "markdown",
   "metadata": {},
   "source": [
    "# Plotting the total variance explained for all genes"
   ]
  },
  {
   "cell_type": "code",
   "execution_count": 8,
   "metadata": {},
   "outputs": [
    {
     "data": {
      "image/png": "[encoded data removed]",
      "text/plain": [
       "<Figure size 432x288 with 1 Axes>"
      ]
     },
     "metadata": {
      "needs_background": "light"
     },
     "output_type": "display_data"
    }
   ],
   "source": [
    "\n",
    "plt.plot(range(1, 6), R2_all, linewidth = 3)\n",
    "plt.xlabel(\"Number of IEAs\", fontsize = 15)\n",
    "plt.ylabel(\"Total Variance Explained\", fontsize = 15)\n",
    "_ = plt.xticks( range(1,6), range(1,6), fontsize = 15 )\n",
    "\n",
    "_ = plt.yticks( fontsize = 15 )"
   ]
  }
 ],
 "metadata": {
  "kernelspec": {
   "display_name": "Python 3 (ipykernel)",
   "language": "python",
   "name": "python3"
  },
  "language_info": {
   "codemirror_mode": {
    "name": "ipython",
    "version": 3
   },
   "file_extension": ".py",
   "mimetype": "text/x-python",
   "name": "python",
   "nbconvert_exporter": "python",
   "pygments_lexer": "ipython3",
   "version": "3.7.13"
  }
 },
 "nbformat": 4,
 "nbformat_minor": 4
}
