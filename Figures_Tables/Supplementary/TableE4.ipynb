{
 "cells": [
  {
   "cell_type": "markdown",
   "metadata": {},
   "source": [
    "# Table E4\n",
    "\n",
    "## Pearson’s correlation between image-expression axes (IEAs) and COPD-related characteristics and health outcomes, measured on 1,527 subjects from another subset of the COPDGene dataset that had not been used for model training. "
   ]
  },
  {
   "cell_type": "code",
   "execution_count": null,
   "metadata": {},
   "outputs": [],
   "source": [
    "import numpy as np\n",
    "import sys\n",
    "sys.path.append(\"../../src/\")\n",
    "import utility\n",
    "import pandas as pd\n",
    "\n",
    "from matplotlib import pyplot as plt\n",
    "from scipy.stats import pearsonr\n",
    "from scipy.stats import ttest_ind\n",
    "\n",
    "from scipy.stats import kruskal\n",
    "from statsmodels.stats.proportion import proportions_chisquare\n",
    "\n",
    "from mpl_toolkits.axes_grid1.inset_locator import inset_axes\n",
    "import matplotlib\n",
    "\n",
    "import statsmodels.api as sm\n",
    "\n",
    "from scipy import stats\n",
    "\n",
    "import pandas as pd\n",
    "\n",
    "import math\n"
   ]
  },
  {
   "cell_type": "code",
   "execution_count": null,
   "metadata": {},
   "outputs": [],
   "source": [
    "df_IEA_train = pd.read_csv(\"../../output/IEA_train.csv\").set_index(\"sid\")\n",
    "df_IEA_test = pd.read_csv(\"../../output/IEA_test.csv\").set_index(\"sid\")\n",
    "\n",
    "df_IEA_P2 = pd.read_csv(\"../../output/IEA_P2.csv\").set_index(\"sid\")\n",
    "\n"
   ]
  },
  {
   "cell_type": "code",
   "execution_count": null,
   "metadata": {},
   "outputs": [],
   "source": [
    "sid_used = [iii for iii in df_IEA_P2.index if iii not in df_IEA_train.index and iii not in df_IEA_test.index]\n",
    "\n",
    "df_IEA = df_IEA_P2[ df_IEA_P2.index.isin(sid_used) ]"
   ]
  },
  {
   "cell_type": "code",
   "execution_count": null,
   "metadata": {},
   "outputs": [],
   "source": [
    "df = utility.load_data()\n",
    "\n",
    "df_used = pd.merge(df, df_IEA, left_index = True, right_index = True)"
   ]
  },
  {
   "cell_type": "code",
   "execution_count": null,
   "metadata": {},
   "outputs": [],
   "source": [
    "covariances = [\n",
    "               \"BMI_P2\", \"ATS_PackYears_P2\",\n",
    "               \"FEV1pp_utah_P2\", \"FEV1_FVC_utah_P2\", \n",
    "               \"SGRQ_scoreTotal_P2\", \"MMRCDyspneaScor_P2\", \n",
    "               \"distwalked_P2\", \n",
    "               \"Perc15_Insp_Thirona_P2\", \"pctEmph_Thirona_P2\", \"pctGasTrap_Thirona_P2\", \"Pi10_Thirona_P2\", \n",
    "               \"WallAreaPct_seg_Thirona_P2\", \"perc15_ratio\", \n",
    "               \"delta_FEV1pp_P2P3\", \"delta_FEV1FVC_P2P3\",\n",
    "           ] \n"
   ]
  },
  {
   "cell_type": "code",
   "execution_count": null,
   "metadata": {},
   "outputs": [],
   "source": [
    "# Change the variable names\n",
    "cov_label = [iii.replace(\"Frequent_Exacerbator_P2\", \"Frequent Exacerbator (History)\")\\\n",
    "             .replace(\"Frequent_Exacerbator_P3\", \"Frequent Exacerbator (Future)\")\\\n",
    "             .replace(\"smoking_status_P2\", \"%Current Smoker\").replace(\"_P2\", \"\").replace(\"P3\", \"\")\\\n",
    "             .replace(\"ATS_\", \"\").replace(\"_Thirona\", \"\").replace(\"FEV1pp_utah\", \"FEV$_1$%predicted\")\\\n",
    "             .replace(\"FEV1_FVC_utah\", \"FEV$_1$/FVC\").replace(\"distwalked\", \"6-Minute-Walk Distance\").replace(\"pctEmph\", \"%Emphysema at -950HU\")\\\n",
    "             .replace(\"Perc15_Insp\", \"perc15\").replace(\"pctGasTrap\", \"%Gas Trapping\").replace(\"gender\", \"Gender, %females\")\\\n",
    "             .replace(\"race\", \"Race, %African-American\").replace(\"PackYears\", \"Pack Years\").replace(\"WallAreaPct_seg\", \"%WA segmental\")\\\n",
    "             .replace(\"BMI\", \"Body Mass Index (BMI)\").replace(\"Pi10\", \"Pi10\").replace(\"SGRQ_scoreTotal\", \"SGRQ Total Score\")\\\n",
    "             .replace(\"MMRCDyspneaScor\", \"mMRC Dyspnea Score\")\\\n",
    "             .replace(\"FEV1pp\", \"FEV$_1$%predicted\").replace(\"FEV1FVC\", \"FEV$_1$/FVC\").replace(\"WApct\", \"%WA segmental\")\\\n",
    "             .replace(\"delta_\", \"$\\Delta$\")\\\n",
    "             .replace(\"perc15_ratio\", \"$Q_{perc15_{peel-core}}$\")\n",
    "             for iii in covariances]"
   ]
  },
  {
   "cell_type": "markdown",
   "metadata": {},
   "source": [
    "# Computing the correlation coefficients"
   ]
  },
  {
   "cell_type": "code",
   "execution_count": null,
   "metadata": {},
   "outputs": [],
   "source": [
    "res_text = []\n",
    "\n",
    "for ccc in covariances + [\"IEA0\", \"IEA1\"]:\n",
    "    row = []\n",
    "    for iii in [\"IEA0\", \"IEA1\"]:\n",
    "        \n",
    "        x1 = df_used[iii]\n",
    "        x2 = df_used[ccc]\n",
    "        \n",
    "        idx = np.bitwise_and(~np.isnan(x1), ~np.isnan(x2))\n",
    "        \n",
    "        r,p = pearsonr(df_used[iii][idx], df_used[ccc][idx])\n",
    "        \n",
    "        row.append( \"{:.2f}\".format(r) )\n",
    "        if p < .05:\n",
    "            row[-1] += \"*\"\n",
    "        if p < .01:\n",
    "            row[-1] += \"*\"\n",
    "        if p < .001:\n",
    "            row[-1] += \"*\"\n",
    "        \n",
    "    res_text.append(row)"
   ]
  },
  {
   "cell_type": "markdown",
   "metadata": {},
   "source": [
    "# Generating the Table"
   ]
  },
  {
   "cell_type": "code",
   "execution_count": null,
   "metadata": {},
   "outputs": [],
   "source": [
    "fig, ax = plt.subplots(figsize=(16,12))\n",
    "\n",
    "the_table=plt.table(cellText=res_text, rowLabels=cov_label  + [\"IEA0\", \"IEA1\"], \n",
    "                    colLabels = [\"IEA$_{emph}$\", \"IEA$_{airway}$\"],\n",
    "                     colWidths = [.1]*len(res_text), loc='center', fontsize = 50, cellLoc = \"center\"\n",
    "                   )\n",
    "\n",
    "plt.axis('off')\n",
    "\n",
    "the_table.auto_set_font_size(False)\n",
    "the_table.set_fontsize(18)\n",
    "the_table.scale(2, 2)"
   ]
  }
 ],
 "metadata": {
  "kernelspec": {
   "display_name": "Python 3",
   "language": "python",
   "name": "python3"
  },
  "language_info": {
   "codemirror_mode": {
    "name": "ipython",
    "version": 3
   },
   "file_extension": ".py",
   "mimetype": "text/x-python",
   "name": "python",
   "nbconvert_exporter": "python",
   "pygments_lexer": "ipython3",
   "version": "3.8.5"
  }
 },
 "nbformat": 4,
 "nbformat_minor": 4
}
